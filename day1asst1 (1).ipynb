{
 "cells": [
  {
   "cell_type": "markdown",
   "metadata": {},
   "source": [
    "# Questions 1:\n",
    "\n",
    "Given the following jumbled word, OBANWRI guess the correct English word.\n",
    "\n",
    "\n",
    "A. RANIBOW B. RAINBOW C. BOWRANI D. ROBWANI\n",
    "\n",
    "Answer is : A. RAINBOW\n",
    "\n",
    "\n",
    "\n",
    "\n"
   ]
  },
  {
   "cell_type": "markdown",
   "metadata": {},
   "source": [
    "# Questions 2:\n",
    "\n",
    "Write a program which prints “LETS UPGRADE”. (Please note that you have to print in ALL CAPS as given)\n",
    "\n"
   ]
  },
  {
   "cell_type": "code",
   "execution_count": 2,
   "metadata": {},
   "outputs": [
    {
     "name": "stdout",
     "output_type": "stream",
     "text": [
      "LETS UPGRADE\n"
     ]
    }
   ],
   "source": [
    "# For printing using Print() function\n",
    "print(\"LETS UPGRADE\")\n"
   ]
  },
  {
   "cell_type": "markdown",
   "metadata": {},
   "source": [
    "# Questions 3:\n",
    "Write a program that takes cost price and selling price as input and displays whether the transaction is a Profit or a Loss or Neither.\n",
    "\n"
   ]
  },
  {
   "cell_type": "code",
   "execution_count": 2,
   "metadata": {},
   "outputs": [
    {
     "name": "stdout",
     "output_type": "stream",
     "text": [
      "20\n",
      "20\n",
      "Neither\n"
     ]
    }
   ],
   "source": [
    "#Taking integer input from user \n",
    "x = int(input())\n",
    "\n",
    "y = int(input())\n",
    "\n",
    "#Applying Conditional Statements\n",
    "if x > y:\n",
    "    print(\"Loss\")\n",
    "\n",
    "elif x < y :\n",
    "    print(\"Profit\")\n",
    "    \n",
    "else:\n",
    "    print(\"Neither\")\n",
    "\n"
   ]
  },
  {
   "cell_type": "markdown",
   "metadata": {},
   "source": [
    "# Questions 4:\n",
    "Write a program that takes an amount in Indian Rupees as input. You need to find its equivalent in Euro and display it. Assume 1 Euro equals Rs. 80.\n",
    "\n",
    " "
   ]
  },
  {
   "cell_type": "code",
   "execution_count": 3,
   "metadata": {},
   "outputs": [
    {
     "name": "stdout",
     "output_type": "stream",
     "text": [
      "90\n",
      "7200\n"
     ]
    }
   ],
   "source": [
    "#Taking input from user amount of indian rupee\n",
    "\n",
    "x = int(input())\n",
    "\n",
    "#Assuming 1 Euro equals to 80 indian rupee\n",
    "y = 80 * x\n",
    "\n",
    "print(y)\n"
   ]
  },
  {
   "cell_type": "code",
   "execution_count": null,
   "metadata": {},
   "outputs": [],
   "source": []
  }
 ],
 "metadata": {
  "kernelspec": {
   "display_name": "Python 3",
   "language": "python",
   "name": "python3"
  },
  "language_info": {
   "codemirror_mode": {
    "name": "ipython",
    "version": 3
   },
   "file_extension": ".py",
   "mimetype": "text/x-python",
   "name": "python",
   "nbconvert_exporter": "python",
   "pygments_lexer": "ipython3",
   "version": "3.7.6"
  }
 },
 "nbformat": 4,
 "nbformat_minor": 4
}
